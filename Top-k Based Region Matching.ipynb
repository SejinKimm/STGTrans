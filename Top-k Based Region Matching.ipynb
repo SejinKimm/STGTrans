{
 "cells": [
  {
   "cell_type": "code",
   "execution_count": 2,
   "metadata": {},
   "outputs": [],
   "source": [
    "import networkx as nx\n",
    "\n",
    "def top_k_based_region_matching(K, src_subgraphs, tar_subgraphs):\n",
    "    region_matching = []\n",
    "\n",
    "    def nmatch(n1, n2):\n",
    "        return n1==n2\n",
    "\n",
    "    #calculate GED between target city's region & source city's region\n",
    "    for i in range(len(tar_subgraphs)):\n",
    "        G = tar_subgraphs[i]\n",
    "        GED_list = []\n",
    "        for j in range(len(src_subgraphs)):\n",
    "            G2 = src_subgraphs[j]\n",
    "            GED = nx.graph_edit_distance(G, G2, node_match=nmatch)\n",
    "            GED_list.append((GED, j))\n",
    "\n",
    "    #choose top-k similar regions of source city for target city's region\n",
    "        GED_list.sort(reverse = True)\n",
    "        GED_list = GED_list[:K]\n",
    "        region_matching.append(GED_list)\n",
    "    \n",
    "    return region_matching"
   ]
  }
 ],
 "metadata": {
  "kernelspec": {
   "display_name": "Python 3",
   "language": "python",
   "name": "python3"
  },
  "language_info": {
   "codemirror_mode": {
    "name": "ipython",
    "version": 3
   },
   "file_extension": ".py",
   "mimetype": "text/x-python",
   "name": "python",
   "nbconvert_exporter": "python",
   "pygments_lexer": "ipython3",
   "version": "3.6.9"
  }
 },
 "nbformat": 4,
 "nbformat_minor": 2
}
