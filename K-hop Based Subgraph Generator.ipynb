{
 "cells": [
  {
   "cell_type": "code",
   "execution_count": 3,
   "id": "73a70cef",
   "metadata": {},
   "outputs": [],
   "source": [
    "def one_hop_based_subgraph_generator(feature_vector, adjacency_matrix):\n",
    "\n",
    "    def dist(u, v):\n",
    "        if u == v:\n",
    "            return 0\n",
    "        elif adj[u][v] == 1:\n",
    "            return 1\n",
    "        else:\n",
    "            return 2\n",
    "\n",
    "    number_of_nodes = len(feature_vector)\n",
    "    subgraphs = []\n",
    "    \n",
    "    for i in range(number_of_nodes):\n",
    "        #check_list = [dist(i, j) <= 1 for j in range(number_of_nodes)]\n",
    "        candidate_list = [j if dist(i, j) <= 1 for j in range(number_of_nodes)]\n",
    "        sub_feature = []\n",
    "        sub_adj = []\n",
    "\n",
    "        for j in candidate_list:\n",
    "            sub_feature.append(feature_vector[j])\n",
    "            sub_adj.append(adj[j])\n",
    "        subgraphs.append([sub_feature, sub_adj])\n",
    "    return subgraphs"
   ]
  },
  {
   "cell_type": "code",
   "execution_count": null,
   "id": "ec548ddb",
   "metadata": {},
   "outputs": [],
   "source": [
    "\n"
   ]
  }
 ],
 "metadata": {
  "kernelspec": {
   "display_name": "Python 3 (ipykernel)",
   "language": "python",
   "name": "python3"
  },
  "language_info": {
   "codemirror_mode": {
    "name": "ipython",
    "version": 3
   },
   "file_extension": ".py",
   "mimetype": "text/x-python",
   "name": "python",
   "nbconvert_exporter": "python",
   "pygments_lexer": "ipython3",
   "version": "3.7.7"
  }
 },
 "nbformat": 4,
 "nbformat_minor": 5
}
