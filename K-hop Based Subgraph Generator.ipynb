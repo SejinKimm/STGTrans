{
 "cells": [
  {
   "cell_type": "code",
   "execution_count": 16,
   "id": "73a70cef",
   "metadata": {},
   "outputs": [],
   "source": [
    "def one_hop_based_subgraph_generator(feature_vector, adjacency_matrix):\n",
    "\n",
    "    def dist(u, v):\n",
    "        if u == v:\n",
    "            return 0\n",
    "        elif adj[u][v] == 1:\n",
    "            return 1\n",
    "        else:\n",
    "            return 2\n",
    "\n",
    "    N = len(feature_vector)\n",
    "    subgraphs = []\n",
    "    \n",
    "    for i in range(N):\n",
    "        #check_list = [dist(i, j) <= 1 for j in range(N)]\n",
    "        candidate_list = []\n",
    "        for j in range(N):\n",
    "            if dist(i, j) <= 1:\n",
    "                candidate_list.append(j)\n",
    "        \n",
    "        sub_feature = []\n",
    "        sub_adj = []\n",
    "\n",
    "        for j in candidate_list:\n",
    "            sub_feature.append(feature_vector[j])\n",
    "            sub_adj.append(adj[j])\n",
    "        subgraphs.append([sub_feature, sub_adj])\n",
    "    return subgraphs"
   ]
  },
  {
   "cell_type": "code",
   "execution_count": 5,
   "id": "ec548ddb",
   "metadata": {},
   "outputs": [
    {
     "ename": "SyntaxError",
     "evalue": "invalid syntax (1987133966.py, line 27)",
     "output_type": "error",
     "traceback": [
      "\u001b[0;36m  File \u001b[0;32m\"/tmp/ipykernel_136320/1987133966.py\"\u001b[0;36m, line \u001b[0;32m27\u001b[0m\n\u001b[0;31m    candidate_list = [j if dist[j] <= k for j in range(N)]\u001b[0m\n\u001b[0m                                          ^\u001b[0m\n\u001b[0;31mSyntaxError\u001b[0m\u001b[0;31m:\u001b[0m invalid syntax\n"
     ]
    }
   ],
   "source": [
    "from heapq import heappush, heappop\n",
    "\n",
    "def k_hop_based_subgraph_generator(k, feature_vector, adjacency_matrix):\n",
    "    \n",
    "    def dijkstra(u):\n",
    "        N = len(feature_vector)\n",
    "        mindist = [N] * N\n",
    "        pq = []\n",
    "        \n",
    "        heappush(pq, (0, u))\n",
    "        mindist[u] = 0\n",
    "        while len(pq) > 0:\n",
    "            dist, u = heappop(pq)\n",
    "            \n",
    "            for v in range(N):\n",
    "                if adjacency_matrix[u][v] == 1 and mindist[v] > dist + 1:\n",
    "                    heappush(pq, (dist + 1, v))\n",
    "        \n",
    "        return mindist\n",
    "    \n",
    "    N = len(feature_vector)        \n",
    "    subgraphs = []\n",
    "    \n",
    "    for i in range(N):\n",
    "        dist = dijkstra(i)\n",
    "        #check_list = [dist[j] <= k for j in range(N)]\n",
    "        candidate_list = [j if dist[j] <= k for j in range(N)]\n",
    "        sub_feature = []\n",
    "        sub_adj = []\n",
    "\n",
    "        for j in candidate_list:\n",
    "            sub_feature.append(feature_vector[j])\n",
    "            sub_adj.append(adj[j])\n",
    "        subgraphs.append([sub_feature, sub_adj])\n",
    "    return subgraphs"
   ]
  },
  {
   "cell_type": "code",
   "execution_count": null,
   "id": "94cdb403",
   "metadata": {},
   "outputs": [],
   "source": []
  }
 ],
 "metadata": {
  "kernelspec": {
   "display_name": "Python 3 (ipykernel)",
   "language": "python",
   "name": "python3"
  },
  "language_info": {
   "codemirror_mode": {
    "name": "ipython",
    "version": 3
   },
   "file_extension": ".py",
   "mimetype": "text/x-python",
   "name": "python",
   "nbconvert_exporter": "python",
   "pygments_lexer": "ipython3",
   "version": "3.7.7"
  }
 },
 "nbformat": 4,
 "nbformat_minor": 5
}
